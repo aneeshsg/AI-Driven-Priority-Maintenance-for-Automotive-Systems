{
 "cells": [
  {
   "cell_type": "code",
   "execution_count": null,
   "id": "6e10e96c-6a30-4e8b-a90f-87c83348153a",
   "metadata": {},
   "outputs": [],
   "source": [
    "import pandas as pd\n",
    "import numpy as np\n",
    "from sklearn.preprocessing import MinMaxScaler\n",
    "import lightgbm as lgb"
   ]
  },
  {
   "cell_type": "code",
   "execution_count": null,
   "id": "a8714865-465f-4f43-943c-3ed6e36c3f5f",
   "metadata": {
    "scrolled": true
   },
   "outputs": [],
   "source": [
    "df=pd.read_csv(\"fleet_train.csv\")\n",
    "df.head(50)"
   ]
  },
  {
   "cell_type": "code",
   "execution_count": null,
   "id": "fa2fd371-227a-4d6a-84d9-d36788b86ba7",
   "metadata": {},
   "outputs": [],
   "source": [
    "df.isnull().sum()"
   ]
  },
  {
   "cell_type": "code",
   "execution_count": null,
   "id": "e5e905e2-43bb-44ad-a32d-4a1fa5ee2562",
   "metadata": {},
   "outputs": [],
   "source": [
    "df.drop(['record_id','fleetid','truckid','Region','Measurement_timestamp'], axis=1, inplace=True)"
   ]
  },
  {
   "cell_type": "code",
   "execution_count": null,
   "id": "97cde98e-53ed-459a-a07c-945e53aaa937",
   "metadata": {},
   "outputs": [],
   "source": [
    "features_to_normalize = [\n",
    "    'Engine_Load', 'Engine_RPM', 'Engine_Coolant_Temp', 'Vibration',\n",
    "    'Mass_Air_Flow_Rate', 'Engine_Oil_Temp', 'Throttle_Pos_Manifold',\n",
    "    'Accel_Ssor_Total', 'Trip_Distance', 'Trip_Time_journey', 'Turbo_Boost_And_Vcm_Gauge'\n",
    "]"
   ]
  },
  {
   "cell_type": "code",
   "execution_count": null,
   "id": "4cd85cd3-fe0b-4d6a-8989-0d2eccafc158",
   "metadata": {
    "scrolled": true
   },
   "outputs": [],
   "source": [
    "scaler = MinMaxScaler()\n",
    "df[features_to_normalize] = scaler.fit_transform(df[features_to_normalize])\n",
    "\n",
    "# df['engine_health_score'] = (df['Engine_Load'] + df['Engine_RPM'] + df['Engine_Coolant_Temp']) / 3\n",
    "# df['battery_health_score'] = (df['Mass_Air_Flow_Rate'] + df['Engine_Oil_Temp']) / 2\n",
    "# df['vibration_score'] = df['Vibration']\n",
    "df.head(50)"
   ]
  },
  {
   "cell_type": "code",
   "execution_count": null,
   "id": "fb740deb-5d46-41d6-bd92-594be63432ed",
   "metadata": {},
   "outputs": [],
   "source": [
    "def calculate_condition_score(row):\n",
    "    engine_health_score = (row['Engine_Load'] + row['Engine_RPM'] + row['Engine_Coolant_Temp']) / 3\n",
    "    usage_severity = row['Engine_Load'] * (row['Trip_Distance'] + row['Trip_Time_journey'])\n",
    "    anomaly_flag = int((row['Vibration'] > 0.7) or (row['Engine_Coolant_Temp'] > 0.8))\n",
    "    condition_score = 0.5 * engine_health_score + 0.3 * usage_severity + 0.2 * anomaly_flag\n",
    "    return condition_score\n",
    "\n",
    "df['Condition_Score'] = df.apply(calculate_condition_score, axis=1)\n",
    "\n",
    "df.head()"
   ]
  },
  {
   "cell_type": "code",
   "execution_count": null,
   "id": "f8ff4709-03d4-4bc6-9fca-65cb64d416fb",
   "metadata": {},
   "outputs": [],
   "source": []
  },
  {
   "cell_type": "code",
   "execution_count": null,
   "id": "ac5f2677-f32f-4619-92ef-2a7a50fe3db7",
   "metadata": {},
   "outputs": [],
   "source": []
  },
  {
   "cell_type": "code",
   "execution_count": null,
   "id": "25218d8d-30f1-4a5b-8a9d-bb37c852968c",
   "metadata": {},
   "outputs": [],
   "source": [
    "def assign_priority(score):\n",
    "    if score > 0.70:\n",
    "        return 'Critical'\n",
    "    elif score > 0.45:\n",
    "        return 'Moderate'\n",
    "    else:\n",
    "        return 'Low'"
   ]
  },
  {
   "cell_type": "code",
   "execution_count": null,
   "id": "82ba62bb-4f86-435e-bf82-341f003724b3",
   "metadata": {
    "scrolled": true
   },
   "outputs": [],
   "source": [
    "df['Priority'] = df['Condition_Score'].apply(assign_priority)\n",
    "df.to_csv('fleet_train_priorities.csv', index=False)\n",
    "df.head(50)"
   ]
  },
  {
   "cell_type": "code",
   "execution_count": null,
   "id": "09c40140-424a-4fe8-b87d-32c7e613ae97",
   "metadata": {},
   "outputs": [],
   "source": [
    "df.isnull().sum()"
   ]
  },
  {
   "cell_type": "code",
   "execution_count": null,
   "id": "d76cadc3-53fa-43f9-bdfe-8ccd11a19cc8",
   "metadata": {},
   "outputs": [],
   "source": [
    "df['Overstrain_Risk'] = 0.5 * df['Engine_Load'] + 0.5 * df['Engine_RPM']\n",
    "df['Heat_Dissipation_Risk'] = 0.4 * df['Engine_Coolant_Temp'] + 0.6 * df['Engine_Oil_Temp']\n",
    "df['Power_Failure_Risk'] = 0.5 * df['Mass_Air_Flow_Rate'] + 0.5 * df['Turbo_Boost_And_Vcm_Gauge']\n",
    "\n",
    "def assign_failure_label(row):\n",
    "    if row['Condition_Score'] < 0.3:\n",
    "        return 'No Failure'\n",
    "    else:\n",
    "        risks = {\n",
    "            'Overstrain Failure': row['Overstrain_Risk'],\n",
    "            'Heat Dissipation Failure': row['Heat_Dissipation_Risk'],\n",
    "            'Power Failure': row['Power_Failure_Risk']\n",
    "        }\n",
    "        return max(risks, key=risks.get)\n",
    "\n",
    "df['Failure_Type'] = df.apply(assign_failure_label, axis=1)\n",
    "\n",
    "df['Failure_Type'].value_counts()"
   ]
  },
  {
   "cell_type": "code",
   "execution_count": null,
   "id": "f0aadc74-01ad-49b2-bf6b-d2654f2d684d",
   "metadata": {},
   "outputs": [],
   "source": [
    "df[[\n",
    "    'Engine_Load', 'Engine_RPM', 'Engine_Coolant_Temp', 'Vibration',\n",
    "    'Mass_Air_Flow_Rate', 'Engine_Oil_Temp', 'Throttle_Pos_Manifold',\n",
    "    'Accel_Ssor_Total', 'Trip_Distance', 'Trip_Time_journey']]"
   ]
  },
  {
   "cell_type": "code",
   "execution_count": null,
   "id": "dd097711-61ff-4260-82d1-c5c3e4db3f26",
   "metadata": {},
   "outputs": [],
   "source": [
    "df"
   ]
  },
  {
   "cell_type": "code",
   "execution_count": null,
   "id": "ce84e594-8957-428a-ab91-cf8d1be4de3f",
   "metadata": {},
   "outputs": [],
   "source": [
    "# def get_user_input():\n",
    "#     engine_load = float(input(\"Enter Engine Load: \"))\n",
    "#     engine_rpm = float(input(\"Enter Engine RPM: \"))\n",
    "#     engine_coolant_temp = float(input(\"Enter Engine Coolant Temperature: \"))\n",
    "#     trip_distance = float(input(\"Enter Trip Distance: \"))\n",
    "#     trip_time_journey = float(input(\"Enter Trip Time Journey: \"))\n",
    "#     vibration = float(input(\"Enter Vibration: \"))\n",
    "    \n",
    "#     user_input_row = {\n",
    "#         'Engine_Load': engine_load,\n",
    "#         'Engine_RPM': engine_rpm,\n",
    "#         'Engine_Coolant_Temp': engine_coolant_temp,\n",
    "#         'Trip_Distance': trip_distance,\n",
    "#         'Trip_Time_journey': trip_time_journey,\n",
    "#         'Vibration': vibration\n",
    "#     }\n",
    "    \n",
    "#     condition_score = calculate_condition_score(user_input_row)\n",
    "#     return condition_score\n",
    "\n",
    "# user_condition_score = get_user_input()\n",
    "# print(f\"Condition Score: {user_condition_score}\")\n"
   ]
  },
  {
   "cell_type": "code",
   "execution_count": null,
   "id": "af7773a4-2d8c-40b1-9ddb-80d59e46f026",
   "metadata": {},
   "outputs": [],
   "source": [
    "print(df['Condition_Score'].describe())\n",
    "\n",
    "import seaborn as sns\n",
    "import matplotlib.pyplot as plt\n",
    "sns.histplot(df['Condition_Score'], bins=30, kde=True)\n",
    "plt.title('Condition Score Distribution')\n",
    "plt.show()\n"
   ]
  },
  {
   "cell_type": "code",
   "execution_count": null,
   "id": "8e526595-7d76-4a28-a9b8-d91c21290113",
   "metadata": {},
   "outputs": [],
   "source": [
    "from sklearn.model_selection import train_test_split\n",
    "df1=df\n",
    "df1.drop(columns=['Priority'],axis=1,inplace=True)\n",
    "x=df1.drop(columns=['Failure_Type'])\n",
    "y=df1['Failure_Type']"
   ]
  },
  {
   "cell_type": "code",
   "execution_count": null,
   "id": "00a19b03-c0a1-4ded-aa9c-a33c528f8d07",
   "metadata": {},
   "outputs": [],
   "source": [
    "from sklearn.preprocessing import LabelEncoder\n",
    "lb=LabelEncoder()\n",
    "y=lb.fit_transform(y)\n",
    "print(y)\n",
    "print(lb.classes_)\n",
    "print(lb.inverse_transform([0,1,2,3]))"
   ]
  },
  {
   "cell_type": "code",
   "execution_count": null,
   "id": "5a8412ec-3d08-49a1-ae1d-282f95bd473d",
   "metadata": {},
   "outputs": [],
   "source": [
    "xtrain,xtest, ytrain, ytest=train_test_split(x,y,test_size=0.2,random_state=42)\n",
    "xtrain,xval,ytrain,yval=train_test_split(xtrain, ytrain, test_size=0.1,random_state=42)\n",
    "train = lgb.Dataset(xtrain,label=ytrain)\n",
    "val=lgb.Dataset(xval,label=yval)\n"
   ]
  },
  {
   "cell_type": "code",
   "execution_count": null,
   "id": "43176ec7-f65f-4176-bf58-78e00f98eb43",
   "metadata": {},
   "outputs": [],
   "source": [
    "params = {\n",
    "    'objective': 'multiclass',\n",
    "    'num_class': len(lb.classes_),  \n",
    "    'boosting_type': 'gbdt',\n",
    "    'metric': 'multi_logloss',\n",
    "    'learning_rate': 0.05,\n",
    "    'max_depth': 6,\n",
    "    'num_leaves': 31,\n",
    "    'min_data_in_leaf': 20,\n",
    "    'lambda_l1': 0.1,\n",
    "    'lambda_l2': 0.1,\n",
    "    'feature_fraction': 0.8,\n",
    "    'bagging_fraction': 0.8,\n",
    "    'bagging_freq': 5,\n",
    "    'verbose': -1,\n",
    "    'seed': 42\n",
    "}\n",
    "params['is_unbalance'] = True"
   ]
  },
  {
   "cell_type": "code",
   "execution_count": null,
   "id": "7108a737-79a1-45b0-9d3f-f6a24239631c",
   "metadata": {},
   "outputs": [],
   "source": [
    "early_stopping_callback = lgb.early_stopping(stopping_rounds=30)\n",
    "verbose_eval_callback = lgb.log_evaluation(period=10)\n",
    "\n",
    "lgb_model = lgb.train(\n",
    "    params,\n",
    "    train,\n",
    "    num_boost_round=350,  \n",
    "    valid_sets=[train, val],\n",
    "    callbacks=[early_stopping_callback, verbose_eval_callback]\n",
    ")\n"
   ]
  },
  {
   "cell_type": "code",
   "execution_count": null,
   "id": "ee9eb77c-07e0-42b0-8c06-0185280ce1b9",
   "metadata": {},
   "outputs": [],
   "source": [
    "predprob = lgb_model.predict(xtest)\n",
    "\n",
    "pred = [np.argmax(prob) for prob in predprob]\n",
    "from sklearn.metrics import accuracy_score, classification_report\n",
    "print(accuracy_score(ytest, pred))"
   ]
  },
  {
   "cell_type": "code",
   "execution_count": null,
   "id": "59e9e18b-5252-4a86-9a32-9d19b7180510",
   "metadata": {},
   "outputs": [],
   "source": [
    "print(classification_report(ytest,pred))"
   ]
  }
 ],
 "metadata": {
  "kernelspec": {
   "display_name": "Python 3 (ipykernel)",
   "language": "python",
   "name": "python3"
  },
  "language_info": {
   "codemirror_mode": {
    "name": "ipython",
    "version": 3
   },
   "file_extension": ".py",
   "mimetype": "text/x-python",
   "name": "python",
   "nbconvert_exporter": "python",
   "pygments_lexer": "ipython3",
   "version": "3.12.3"
  }
 },
 "nbformat": 4,
 "nbformat_minor": 5
}
